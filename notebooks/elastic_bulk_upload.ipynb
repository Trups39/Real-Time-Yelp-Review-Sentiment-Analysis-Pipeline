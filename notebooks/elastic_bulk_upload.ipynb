{
 "cells": [
  {
   "cell_type": "code",
   "execution_count": null,
   "metadata": {},
   "outputs": [],
   "source": [
    "!pip install elasticsearch"
   ]
  },
  {
   "cell_type": "code",
   "execution_count": null,
   "metadata": {},
   "outputs": [],
   "source": [
    "from elasticsearch import Elasticsearch, helpers\n",
    "import json\n",
    "\n",
    "# Connect to Elasticsearch Cloud\n",
    "client = Elasticsearch(\n",
    "    \"<YOUR-ELASTICSEARCH-ENDPOINT>\",\n",
    "    verify_certs=False,\n",
    "    basic_auth=(\"<YOUR-ELASTICSEARCH-USERNAME>\", \"<YOUR-ELASTICSEARCH-PASSWORD>\")\n",
    ")\n",
    "\n",
    "# Open the file and read json object\n",
    "with open(\"/kaggle/input/yelp-dataset/yelp_academic_dataset_business.json\") as f:\n",
    "    data = []\n",
    "    for line in f:\n",
    "        try:\n",
    "            doc = json.loads(line.strip())\n",
    "            data.append(doc)\n",
    "        except json.JSONDecodeError as e:\n",
    "            print(f\"Error decoding JSON: {e}\")\n",
    "            \n",
    "    helpers.bulk(client, data, index=\"<YOUR-INDEX-NAME>\")"
   ]
  }
 ],
 "metadata": {
  "language_info": {
   "name": "python"
  }
 },
 "nbformat": 4,
 "nbformat_minor": 2
}
